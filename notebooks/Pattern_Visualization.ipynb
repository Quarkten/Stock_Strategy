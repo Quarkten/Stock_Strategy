{
 "cells": [
  {
   "cell_type": "code",
   "execution_count": null,
   "id": "2b8bea8c",
   "metadata": {
    "vscode": {
     "languageId": "plaintext"
    }
   },
   "outputs": [],
   "source": [
    "{\n",
    " \"cells\": [\n",
    "  {\n",
    "   \"cell_type\": \"markdown\",\n",
    "   \"metadata\": {},\n",
    "   \"source\": [\n",
    "    \"# Pattern Visualization Notebook\\n\",\n",
    "    \"Interactive visualization of trading patterns\"\n",
    "   ]\n",
    "  },\n",
    "  {\n",
    "   \"cell_type\": \"code\",\n",
    "   \"execution_count\": null,\n",
    "   \"metadata\": {},\n",
    "   \"outputs\": [],\n",
    "   \"source\": [\n",
    "    \"import matplotlib.pyplot as plt\\n\",\n",
    "    \"import mplfinance as mpf\\n\",\n",
    "    \"from src.strategies.pattern_detection import PatternDetector\\n\",\n",
    "    \"from src.data.alpha_vantage import AlphaVantageData\\n\",\n",
    "    \"\\n\",\n",
    "    \"# Fetch sample data\\n\",\n",
    "    \"av = AlphaVantageData({'timeframes': {'short_term': ['5min'], 'trend': '1h'}})\\n\",\n",
    "    \"data = av.get_historical_data('AAPL', '15min')\\n\",\n",
    "    \"\\n\",\n",
    "    \"# Detect patterns\\n\",\n",
    "    \"detector = PatternDetector()\\n\",\n",
    "    \"patterns = detector.detect_candlestick_patterns(data)\\n\",\n",
    "    \"\\n\",\n",
    "    \"# Visualize\\n\",\n",
    "    \"mpf.plot(data[-50:], type='candle', style='charles', \\n\",\n",
    "    \"         title='AAPL with Detected Patterns', \\n\",\n",
    "    \"         hlines=dict(hlines=[data['Close'].mean()], colors=['g'], linestyle='-.'))\"\n",
    "   ]\n",
    "  }\n",
    " ]\n",
    "}"
   ]
  }
 ],
 "metadata": {
  "language_info": {
   "name": "python"
  }
 },
 "nbformat": 4,
 "nbformat_minor": 5
}
