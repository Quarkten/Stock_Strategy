{
 "cells": [
  {
   "cell_type": "markdown",
   "metadata": {},
   "source": [
    "# RL Agent Performance Evaluation"
   ]
  },
  {
   "cell_type": "markdown",
   "metadata": {},
   "source": [
    "## 1. Load Data and Models"
   ]
  },
  {
   "cell_type": "code",
   "execution_count": null,
   "metadata": {},
   "outputs": [],
   "source": [
    "import pandas as pd\n",
    "import numpy as np\n",
    "import matplotlib.pyplot as plt\n",
    "import seaborn as sns\n",
    "\n",
    "# Load baseline backtest results\n",
    "baseline_trades = pd.read_csv('data/trades_master.csv')\n",
    "\n",
    "# Load RL agent backtest results (replace with actual file paths)\n",
    "ppo_trades = pd.read_csv('data/ppo_trades.csv')\n",
    "sac_trades = pd.read_csv('data/sac_trades.csv')"
   ]
  },
  {
   "cell_type": "markdown",
   "metadata": {},
   "source": [
    "## 2. Performance Metrics"
   ]
  },
  {
   "cell_type": "code",
   "execution_count": null,
   "metadata": {},
   "outputs": [],
   "source": [
    "def calculate_performance_metrics(trades, capital=100000):\n",
    "    pnl = trades['pnl'].sum()\n",
    "    win_rate = (trades['pnl'] > 0).mean()\n",
    "    sharpe_ratio = pnl / trades['pnl'].std() if trades['pnl'].std() != 0 else 0\n",
    "    sortino_ratio = pnl / trades[trades['pnl'] < 0]['pnl'].std() if trades[trades['pnl'] < 0]['pnl'].std() != 0 else 0\n",
    "    max_drawdown = (trades['pnl'].cumsum().cummax() - trades['pnl'].cumsum()).max()\n",
    "    return {\n",
    "        'Total PnL': pnl,\n",
    "        'Win Rate': win_rate,\n",
    "        'Sharpe Ratio': sharpe_ratio,\n",
    "        'Sortino Ratio': sortino_ratio,\n",
    "        'Max Drawdown': max_drawdown\n",
    "    }\n",
    "\n",
    "baseline_metrics = calculate_performance_metrics(baseline_trades)\n",
    "ppo_metrics = calculate_performance_metrics(ppo_trades)\n",
    "sac_metrics = calculate_performance_metrics(sac_trades)\n",
    "\n",
    "metrics_df = pd.DataFrame([baseline_metrics, ppo_metrics, sac_metrics], index=['Baseline', 'PPO', 'SAC'])\n",
    "print(metrics_df)"
   ]
  },
  {
   "cell_type": "markdown",
   "metadata": {},
   "source": [
    "## 3. Trade Analysis"
   ]
  },
  {
   "cell_type": "code",
   "execution_count": null,
   "metadata": {},
   "outputs": [],
   "source": [
    "def plot_r_multiple_distribution(trades, title):\n",
    "    plt.figure(figsize=(10, 6))\n",
    "    sns.histplot(trades['r_multiple'], bins=50, kde=True)\n",
    "    plt.title(title)\n",
    "    plt.xlabel('R-Multiple')\n",
    "    plt.ylabel('Frequency')\n",
    "    plt.show()\n",
    "\n",
    "plot_r_multiple_distribution(baseline_trades, 'Baseline R-Multiple Distribution')\n",
    "plot_r_multiple_distribution(ppo_trades, 'PPO R-Multiple Distribution')\n",
    "plot_r_multiple_distribution(sac_trades, 'SAC R-Multiple Distribution')"
   ]
  },
  {
   "cell_type": "markdown",
   "metadata": {},
   "source": [
    "## 4. Risk Analysis"
   ]
  },
  {
   "cell_type": "code",
   "execution_count": null,
   "metadata": {},
   "outputs": [],
   "source": [
    "def analyze_tail_events(trades, title):\n",
    "    tail_wins = trades[trades['pnl'] > 0]['pnl'].quantile(0.8)\n",
    "    tail_losses = trades[trades['pnl'] < 0]['pnl'].quantile(0.2)\n",
    "    print(f'--- {title} ---')\n",
    "    print(f'80th Percentile Win: {tail_wins:.2f}')\n",
    "    print(f'20th Percentile Loss: {tail_losses:.2f}')\n",
    "\n",
    "analyze_tail_events(baseline_trades, 'Baseline')\n",
    "analyze_tail_events(ppo_trades, 'PPO')\n",
    "analyze_tail_events(sac_trades, 'SAC')"
   ]
  },
  {
   "cell_type": "markdown",
   "metadata": {},
   "source": [
    "## 5. Visualizations"
   ]
  },
  {
   "cell_type": "code",
   "execution_count": null,
   "metadata": {},
   "outputs": [],
   "source": [
    "def plot_equity_curve(trades, title):\n",
    "    plt.figure(figsize=(10, 6))\n",
    "    trades['equity_curve'] = trades['pnl'].cumsum()\n",
    "    plt.plot(trades['equity_curve'])\n",
    "    plt.title(title)\n",
    "    plt.xlabel('Trade Number')\n",
    "    plt.ylabel('Equity')\n",
    "    plt.show()\n",
    "\n",
    "plot_equity_curve(baseline_trades, 'Baseline Equity Curve')\n",
    "plot_equity_curve(ppo_trades, 'PPO Equity Curve')\n",
    "plot_equity_curve(sac_trades, 'SAC Equity Curve')"
   ]
  }
 ],
 "metadata": {
  "kernelspec": {
   "display_name": "Python 3",
   "language": "python",
   "name": "python3"
  },
  "language_info": {
   "codemirror_mode": {
    "name": "ipython",
    "version": 3
   },
   "file_extension": ".py",
   "mimetype": "text/x-python",
   "name": "python",
   "nbconvert_exporter": "python",
   "pygments_lexer": "ipython3",
   "version": "3.10.0"
  }
 },
 "nbformat": 4,
 "nbformat_minor": 4
}