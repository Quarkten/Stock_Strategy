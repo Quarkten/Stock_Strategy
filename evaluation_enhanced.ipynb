{
 "cells": [
  {
   "cell_type": "markdown",
   "metadata": {},
   "source": [
    "# RL Agent Performance Evaluation (Enhanced)"
   ]
  },
  {
   "cell_type": "markdown",
   "metadata": {},
   "source": [
    "## 1. Configuration and Data Loading"
   ]
  },
  {
   "cell_type": "code",
   "execution_count": null,
   "metadata": {},
   "outputs": [],
   "source": [
    "import pandas as pd\n",
    "import numpy as np\n",
    "import matplotlib.pyplot as plt\n",
    "import seaborn as sns\n",
    "\n",
    "# --- Configuration ---\n",
    "BASELINE_TRADES_PATH = 'data/trades_master.csv'\n",
    "PPO_TRADES_PATH = 'data/ppo_trades.csv' # Replace with actual path\n",
    "SAC_TRADES_PATH = 'data/sac_trades.csv' # Replace with actual path\n",
    "TQC_TRADES_PATH = 'data/tqc_trades.csv' # Replace with actual path\n",
    "CAPITAL = 100000\n",
    "\n",
    "# --- Load Data ---\n",
    "try:\n",
    "    baseline_trades = pd.read_csv(BASELINE_TRADES_PATH)\n",
    "    baseline_trades['exit_time'] = pd.to_datetime(baseline_trades['exit_time'])\n",
    "except FileNotFoundError:\n",
    "    baseline_trades = pd.DataFrame()\n",
    "\n",
    "try:\n",
    "    ppo_trades = pd.read_csv(PPO_TRADES_PATH)\n",
    "    ppo_trades['exit_time'] = pd.to_datetime(ppo_trades['exit_time'])\n",
    "except FileNotFoundError:\n",
    "    ppo_trades = pd.DataFrame()\n",
    "\n",
    "try:\n",
    "    sac_trades = pd.read_csv(SAC_TRADES_PATH)\n",
    "    sac_trades['exit_time'] = pd.to_datetime(sac_trades['exit_time'])\n",
    "except FileNotFoundError:\n",
    "    sac_trades = pd.DataFrame()\n",
    "\n",
    "try:\n",
    "    tqc_trades = pd.read_csv(TQC_TRADES_PATH)\n",
    "    tqc_trades['exit_time'] = pd.to_datetime(tqc_trades['exit_time'])\n",
    "except FileNotFoundError:\n",
    "    tqc_trades = pd.DataFrame()\n",
    "\n",
    "datasets = {\n",
    "    'Baseline': baseline_trades,\n",
    "    'PPO': ppo_trades,\n",
    "    'SAC': sac_trades,\n",
    "    'TQC': tqc_trades\n",
    "}\n",
    "\n",
    "print('Data loaded.')"
   ]
  },
  {
   "cell_type": "markdown",
   "metadata": {},
   "source": [
    "## 2. Comprehensive Performance Metrics"
   ]
  },
  {
   "cell_type": "code",
   "execution_count": null,
   "metadata": {},
   "outputs": [],
   "source": [
    "def calculate_all_metrics(trades, capital=100000):\n",
    "    if trades.empty:\n",
    "        return {}\n",
    "\n",
    "    returns = trades['pnl'] / capital\n",
    "    \n",
    "    # PnL and Win Rate\n",
    "    total_pnl = trades['pnl'].sum()\n",
    "    win_rate = (trades['pnl'] > 0).mean()\n",
    "    \n",
    "    # R-Multiple and Expectancy\n",
    "    avg_r = trades['r_multiple'].mean()\n",
    "    expectancy = (trades[trades['pnl'] > 0]['pnl'].mean() * win_rate) + (trades[trades['pnl'] < 0]['pnl'].mean() * (1 - win_rate))\n",
    "\n",
    "    # Risk-Adjusted Returns\\n",
    "    daily_returns = trades.set_index('exit_time')['pnl'].resample('D').sum() / capital\n",
    "    if daily_returns.std() > 0:\\n",
    "        sharpe = (daily_returns.mean() / daily_returns.std()) * np.sqrt(252)\\n",
    "    else:\\n",
    "        sharpe = 0.0\\n",
    "    \n",
    "    negative_returns = daily_returns[daily_returns < 0]\\n",
    "    if negative_returns.std() > 0:\\n",
    "        sortino = (daily_returns.mean() / negative_returns.std()) * np.sqrt(252)\\n",
    "    else:\\n",
    "        sortino = 0.0\\n",
    "    \n",
    "    cumulative_returns = (1 + daily_returns).cumprod()\\n",
    "    max_drawdown = (cumulative_returns.cummax() - cumulative_returns).max()\\n",
    "    \n",
    "    annual_return = (cumulative_returns.iloc[-1]) ** (252 / len(cumulative_returns)) - 1\\n",
    "    if max_drawdown > 0:\\n",
    "        calmar = annual_return / max_drawdown\\n",
    "    else:\\n",
    "        calmar = 0.0\\n",
    "\n",
    "    # Trade Duration\n",
    "    trades['duration'] = (trades['exit_time'] - pd.to_datetime(trades['entry_time'])).dt.total_seconds() / 3600 # in hours\n",
    "    avg_duration = trades['duration'].mean()\n",
    "\n",
    "    # Tail Metrics\n",
    "    tail_gain = returns.quantile(0.95)\n",
    "    tail_loss = returns.quantile(0.05)\n",
    "    \n",
    "    # W/L Concentration\n",
    "    win_concentration = trades[trades['pnl'] > 0]['pnl'].nlargest(5).sum() / total_pnl if total_pnl > 0 else 0\n",
    "    loss_concentration = trades[trades['pnl'] < 0]['pnl'].nsmallest(5).sum() / trades[trades['pnl'] < 0]['pnl'].sum() if trades[trades['pnl'] < 0]['pnl'].sum() < 0 else 0\n",
    "\n",
    "    return {\n",
    "        'Total PnL': f'${total_pnl:,.2f}',\n",
    "        'Win Rate': f'{win_rate:.2%}',\n",
    "        'Sharpe Ratio': f'{sharpe:.2f}',\n",
    "        'Sortino Ratio': f'{sortino:.2f}',\n",
    "        'Max Drawdown': f'{max_drawdown:.2%}',\n",
    "        'Calmar Ratio': f'{calmar:.2f}',\n",
    "        'Avg R-Multiple': f'{avg_r:.2f}',\n",
    "        'Expectancy': f'${expectancy:.2f}',\n",
    "        'Avg Duration (h)': f'{avg_duration:.2f}',\n",
    "        '95% Tail Gain': f'{tail_gain:.2%}',\n",
    "        '5% Tail Loss': f'{tail_loss:.2%}',\n",
    "        'Win Concentration (Top 5)': f'{win_concentration:.2%}',\n",
    "        'Loss Concentration (Top 5)': f'{loss_concentration:.2%}'\n",
    "    }\n",
    "\n",
    "all_metrics = {name: calculate_all_metrics(df, capital=CAPITAL) for name, df in datasets.items() if not df.empty}\n",
    "metrics_df = pd.DataFrame(all_metrics).T\n",
    "print('--- Performance Metrics ---')\n",
    "display(metrics_df)"
   ]
  },
  {
   "cell_type": "markdown",
   "metadata": {},
   "source": [
    "## 3. Visualizations"
   ]
  },
  {
   "cell_type": "code",
   "execution_count": null,
   "metadata": {},
   "outputs": [],
   "source": [
    "def plot_equity_curves(datasets, capital=100000):\n",
    "    plt.figure(figsize=(14, 7))\n",
    "    for name, trades in datasets.items():\n",
    "        if not trades.empty:\n",
    "            equity_curve = (trades['pnl'].cumsum() + capital)\n",
    "            plt.plot(equity_curve, label=name)\n",
    "    plt.title('Equity Curves')\n",
    "    plt.xlabel('Trade Number')\n",
    "    plt.ylabel('Equity')\n",
    "    plt.legend()\n",
    "    plt.grid(True)\n",
    "    plt.show()\n",
    "\n",
    "plot_equity_curves(datasets, capital=CAPITAL)"
   ]
  },
  {
   "cell_type": "code",
   "execution_count": null,
   "metadata": {},
   "outputs": [],
   "source": [
    "def plot_r_multiple_distributions(datasets):\n",
    "    fig, axes = plt.subplots(len(datasets), 1, figsize=(10, 5 * len(datasets)), sharex=True)\n",
    "    for i, (name, trades) in enumerate(datasets.items()):\n",
    "        if not trades.empty:\n",
    "            ax = axes[i]\n",
    "            sns.histplot(trades['r_multiple'], bins=100, kde=True, ax=ax)\n",
    "            ax.set_title(f'{name} R-Multiple Distribution')\n",
    "            ax.axvline(0, color='k', linestyle='--')\n",
    "            ax.set_xlabel('R-Multiple')\n",
    "    plt.tight_layout()\n",
    "    plt.show()\n",
    "\n",
    "plot_r_multiple_distributions(datasets)"
   ]
  },
  {
   "cell_type": "code",
   "execution_count": null,
   "metadata": {},
   "outputs": [],
   "source": [
    "def plot_performance_by_regime(datasets):\n",
    "    fig, axes = plt.subplots(len(datasets), 1, figsize=(10, 5 * len(datasets)))\n",
    "    for i, (name, trades) in enumerate(datasets.items()):\n",
    "        if not trades.empty and 'regime' in trades.columns:\n",
    "            ax = axes[i]\n",
    "            regime_pnl = trades.groupby('regime')['pnl'].sum()\n",
    "            regime_pnl.plot(kind='bar', ax=ax)\n",
    "            ax.set_title(f'{name} PnL by Regime')\n",
    "            ax.set_ylabel('Total PnL')\n",
    "    plt.tight_layout()\n",
    "    plt.show()\n",
    "\n",
    "plot_performance_by_regime(datasets)"
   ]
  },
  {
   "cell_type": "markdown",
   "metadata": {},
   "source": [
    "## 4. Asymmetric Payoff Analysis"
   ]
  },
  {
   "cell_type": "code",
   "execution_count": null,
   "metadata": {},
   "outputs": [],
   "source": [
    "def analyze_asymmetric_profile(trades, name):\n",
    "    if trades.empty:\n",
    "        return\n",
    "    \n",
    "    wins = trades[trades['pnl'] > 0]\n",
    "    losses = trades[trades['pnl'] < 0]\n",
    "    \n",
    "    small_loss_threshold = losses['pnl'].quantile(0.8) # 80% of losses are smaller than this\n",
    "    large_win_threshold = wins['pnl'].quantile(0.8) # 20% of wins are larger than this\n",
    "\n",
    "    small_loss_outcomes = (losses['pnl'] >= small_loss_threshold).mean()\n",
    "    large_win_outcomes = (wins['pnl'] >= large_win_threshold).mean()\n",
    "\n",
    "    print(f'--- {name} Asymmetric Profile ---')\n",
    "    print(f'Target: >=80% small-loss outcomes, <=20% large-win outcomes')\n",
    "    print(f'Small Loss Outcomes (Bottom 80% of losses): {small_loss_outcomes:.2%}')\n",
    "    print(f'Large Win Outcomes (Top 20% of wins): {large_win_outcomes:.2%}')\n",
    "\n",
    "for name, df in datasets.items():\n",
    "    analyze_asymmetric_profile(df, name)"
   ]
  },
  {
   "cell_type": "markdown",
   "metadata": {},
   "source": [
    "## 5. Explainable AI (XAI) Analysis"
   ]
  },
  {
   "cell_type": "code",
   "execution_count": null,
   "metadata": {},
   "outputs": [],
   "source": [
    "import shap\n",
    "from sb3_contrib import TQC\n",
    "\n",
    "# Load a trained TQC agent\n",
    "try:\n",
    "    tqc_model = TQC.load(TQC_TRADES_PATH.replace('.csv', '.zip'))\n",
    "except FileNotFoundError:\n",
    "    tqc_model = None\n",
    "\n",
    "if tqc_model:\n",
    "    # Create a SHAP explainer\n",
    "    def predict_fn(x):\n",
    "        return tqc_model.predict(x, deterministic=True)[0]\n",
    "    \n",
    "    explainer = shap.KernelExplainer(predict_fn, np.zeros((1, tqc_model.observation_space.shape[0])))\n",
    "\n",
    "    # Select a few data points to explain\n",
    "    sample_indices = [100, 200, 300] # Replace with interesting indices\n",
    "    sample_data = np.array([tqc_trades.iloc[i].values for i in sample_indices])\n",
    "\n",
    "    # Generate SHAP values\n",
    "    shap_values = explainer.shap_values(sample_data)\n",
    "\n",
    "    # Visualize the explanations\n",
    "    shap.summary_plot(shap_values, sample_data, feature_names=tqc_trades.columns)\n"
   ]
  }
 ],
 "metadata": {
  "kernelspec": {
   "display_name": "Python 3",
   "language": "python",
   "name": "python3"
  },
  "language_info": {
   "codemirror_mode": {
    "name": "ipython",
    "version": 3
   },
   "file_extension": ".py",
   "mimetype": "text/x-python",
   "name": "python",
   "nbconvert_exporter": "python",
   "pygments_lexer": "ipython3",
   "version": "3.10.0"
  }
 },
 "nbformat": 4,
 "nbformat_minor": 4
}
